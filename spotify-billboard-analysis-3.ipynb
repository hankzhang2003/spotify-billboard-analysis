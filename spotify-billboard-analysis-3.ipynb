{
 "cells": [
  {
   "cell_type": "code",
   "execution_count": 1,
   "metadata": {},
   "outputs": [
    {
     "name": "stdout",
     "output_type": "stream",
     "text": [
      "WARNING:tensorflow:From /home/ec2-user/anaconda3/envs/tensorflow_p36/lib/python3.6/site-packages/tensorflow_core/__init__.py:1467: The name tf.estimator.inputs is deprecated. Please use tf.compat.v1.estimator.inputs instead.\n",
      "\n"
     ]
    }
   ],
   "source": [
    "import numpy as np\n",
    "import pandas as pd\n",
    "import matplotlib.pyplot as plt\n",
    "import scipy.stats as stats\n",
    "import itertools\n",
    "from collections import Counter\n",
    "import string\n",
    "import ssl\n",
    "import time\n",
    "from urllib.request import Request, urlopen\n",
    "from threading import Thread\n",
    "from bs4 import BeautifulSoup\n",
    "from sklearn.preprocessing import MinMaxScaler\n",
    "from sklearn.cluster import KMeans\n",
    "from sklearn.metrics import silhouette_score, confusion_matrix, roc_curve\n",
    "from sklearn.model_selection import train_test_split\n",
    "from sklearn.linear_model import LogisticRegression\n",
    "from sklearn.ensemble import (RandomForestClassifier, GradientBoostingClassifier)\n",
    "from tensorflow.keras.models import Sequential\n",
    "from tensorflow.keras.layers import Dense, Activation\n",
    "from clean_features import clean_features\n",
    "from clean_weeks import clean_weeks\n",
    "from web_scraping import parse_page, store_lyrics\n",
    "from genre_helper_functions import get_bucket, contains_genre_type, create_genre_column\n",
    "from make_plots import (make_frequency_plot, make_line_plot, make_dual_plot_same,\n",
    "                        make_dual_plot_mixed, make_scatter)\n",
    "import modeling_functions as mf"
   ]
  },
  {
   "cell_type": "code",
   "execution_count": 2,
   "metadata": {},
   "outputs": [],
   "source": [
    "features = clean_features()\n",
    "weeks = clean_weeks()"
   ]
  },
  {
   "cell_type": "code",
   "execution_count": 3,
   "metadata": {},
   "outputs": [
    {
     "data": {
      "text/plain": [
       "'\\njoined = weeks.merge(features, on=\\'SongID\\')\\n#joined.to_csv(\"data/joined.csv\", index=False)\\n\\n# Expand genres into individual components\\nfeatureGenres = features.explode(\\'spotify_genre\\')\\nfeatureGenres = featureGenres[featureGenres[\\'spotify_genre\\'] != \\'\\']\\n\\njoinedGenres = joined.explode(\\'spotify_genre\\')\\njoinedGenres = joinedGenres[joinedGenres[\\'spotify_genre\\'] != \\'\\']\\n\\nexplicitness = joined[[\\'Year\\', \\'spotify_track_explicit\\']]\\nexplicitness = explicitness.groupby([\\'Year\\']).mean().reset_index()\\n\\nnumericalMetrics = joined.columns.tolist()[11:23]\\nnumericals = joined[[\\'Year\\'] + numericalMetrics].groupby([\\'Year\\']).mean().reset_index()\\n'"
      ]
     },
     "execution_count": 3,
     "metadata": {},
     "output_type": "execute_result"
    }
   ],
   "source": [
    "'''\n",
    "joined = weeks.merge(features, on='SongID')\n",
    "#joined.to_csv(\"data/joined.csv\", index=False)\n",
    "\n",
    "# Expand genres into individual components\n",
    "featureGenres = features.explode('spotify_genre')\n",
    "featureGenres = featureGenres[featureGenres['spotify_genre'] != '']\n",
    "\n",
    "joinedGenres = joined.explode('spotify_genre')\n",
    "joinedGenres = joinedGenres[joinedGenres['spotify_genre'] != '']\n",
    "\n",
    "explicitness = joined[['Year', 'spotify_track_explicit']]\n",
    "explicitness = explicitness.groupby(['Year']).mean().reset_index()\n",
    "\n",
    "numericalMetrics = joined.columns.tolist()[11:23]\n",
    "numericals = joined[['Year'] + numericalMetrics].groupby(['Year']).mean().reset_index()\n",
    "'''"
   ]
  },
  {
   "cell_type": "code",
   "execution_count": 4,
   "metadata": {},
   "outputs": [
    {
     "data": {
      "text/plain": [
       "'\\n# Normalize numerical features not between 0 and 1\\nfeatureGenresNorm = featureGenres.copy()\\nscaled = [\"track_duration\", \"loudness\", \"tempo\"]\\nfor metric in scaled:\\n    mms = MinMaxScaler()\\n    featureGenresNorm[metric] = mms.fit_transform(featureGenresNorm[\\'track_duration\\'].                                 to_numpy().reshape(-1, 1))\\n\\n# Create grouped tables\\ngenres = featureGenres.groupby([\\'spotify_genre\\'])[\\'SongID\\'].count().reset_index()\\ngenresJoined = joinedGenres.groupby([\\'spotify_genre\\'])[\\'SongID\\'].count().reset_index()\\ngenresJoinedDecade = joinedGenres.groupby([\\'spotify_genre\\', \\'Decade\\'])[\\'SongID\\'].count().                         reset_index().sort_values(by=\"Decade\")\\ngenreFeatures = featureGenresNorm.groupby([\\'spotify_genre\\'])[numericalMetrics].mean().reset_index()\\n'"
      ]
     },
     "execution_count": 4,
     "metadata": {},
     "output_type": "execute_result"
    }
   ],
   "source": [
    "'''\n",
    "# Normalize numerical features not between 0 and 1\n",
    "featureGenresNorm = featureGenres.copy()\n",
    "scaled = [\"track_duration\", \"loudness\", \"tempo\"]\n",
    "for metric in scaled:\n",
    "    mms = MinMaxScaler()\n",
    "    featureGenresNorm[metric] = mms.fit_transform(featureGenresNorm['track_duration']. \\\n",
    "                                to_numpy().reshape(-1, 1))\n",
    "\n",
    "# Create grouped tables\n",
    "genres = featureGenres.groupby(['spotify_genre'])['SongID'].count().reset_index()\n",
    "genresJoined = joinedGenres.groupby(['spotify_genre'])['SongID'].count().reset_index()\n",
    "genresJoinedDecade = joinedGenres.groupby(['spotify_genre', 'Decade'])['SongID'].count(). \\\n",
    "                        reset_index().sort_values(by=\"Decade\")\n",
    "genreFeatures = featureGenresNorm.groupby(['spotify_genre'])[numericalMetrics].mean().reset_index()\n",
    "'''"
   ]
  },
  {
   "cell_type": "code",
   "execution_count": 6,
   "metadata": {},
   "outputs": [],
   "source": [
    "# Web scrape lyrics\n",
    "ctx = ssl.create_default_context()\n",
    "ctx.check_hostname = False\n",
    "ctx.verify_mode = ssl.CERT_NONE"
   ]
  },
  {
   "cell_type": "code",
   "execution_count": 3,
   "metadata": {},
   "outputs": [],
   "source": [
    "from web_scraping import parse_page, store_lyrics\n",
    "test = parse_page(\"Dance the Night Away\", \"Twice\")"
   ]
  },
  {
   "cell_type": "code",
   "execution_count": 10,
   "metadata": {},
   "outputs": [
    {
     "name": "stdout",
     "output_type": "stream",
     "text": [
      "45.53477716445923\n"
     ]
    }
   ],
   "source": [
    "featureRock = features.loc[[contains_genre_type(g, \"rock\") for g in features['spotify_genre']]]\n",
    "featureRock.reset_index(drop=True, inplace=True)\n",
    "allLyrics = {}\n",
    "threads = []\n",
    "temp = 0\n",
    "start = time.time()\n",
    "for i in range(temp, temp+1000):\n",
    "#for i in range(len(featureRock)):\n",
    "    t = Thread(target=store_lyrics, args=(featureRock['Song'][i], featureRock['Performer'][i], allLyrics))\n",
    "    threads.append(t)\n",
    "    t.start()\n",
    "for t in threads:\n",
    "    t.join()\n",
    "end = time.time()\n",
    "print(end - start)\n",
    "rockLyrics = pd.DataFrame(allLyrics.items(), columns=[\"SongID\", \"Lyrics\"])\n",
    "rockLyrics.to_csv(\"data/rockLyrics.csv\")"
   ]
  },
  {
   "cell_type": "code",
   "execution_count": 15,
   "metadata": {},
   "outputs": [
    {
     "name": "stdout",
     "output_type": "stream",
     "text": [
      "45\n"
     ]
    }
   ],
   "source": [
    "problemSongsRock = []\n",
    "for k, v in allLyrics.items():\n",
    "    if v[0][0] == \"*\":\n",
    "        problemSongsRock.append([k] + v[2:5])\n",
    "print(len(problemSongsRock))"
   ]
  },
  {
   "cell_type": "code",
   "execution_count": null,
   "metadata": {},
   "outputs": [],
   "source": [
    "with open(\"data/problemSongsRock.txt\", \"w\") as file:\n",
    "    for s in problemSongsRock:\n",
    "        file.write(\"{}\\n\".format(s))"
   ]
  },
  {
   "cell_type": "code",
   "execution_count": 12,
   "metadata": {},
   "outputs": [
    {
     "name": "stdout",
     "output_type": "stream",
     "text": [
      "57.16429567337036\n"
     ]
    }
   ],
   "source": [
    "featurePop = features.loc[[contains_genre_type(g, \"pop\") for g in features['spotify_genre']]]\n",
    "featurePop.reset_index(drop=True, inplace=True)\n",
    "allLyrics = {}\n",
    "threads = []\n",
    "temp = 0\n",
    "start = time.time()\n",
    "for i in range(temp, temp+1000):\n",
    "#for i in range(len(featurePop)):\n",
    "    t = Thread(target=store_lyrics, args=(featurePop['Song'][i], featurePop['Performer'][i], allLyrics))\n",
    "    threads.append(t)\n",
    "    t.start()\n",
    "for t in threads:\n",
    "    t.join()\n",
    "end = time.time()\n",
    "print(end - start)\n",
    "popLyrics = pd.DataFrame(allLyrics.items(), columns=[\"SongID\", \"Lyrics\"])\n",
    "popLyrics.to_csv(\"data/popLyrics.csv\")"
   ]
  },
  {
   "cell_type": "code",
   "execution_count": 16,
   "metadata": {},
   "outputs": [
    {
     "name": "stdout",
     "output_type": "stream",
     "text": [
      "45\n"
     ]
    }
   ],
   "source": [
    "problemSongsPop = []\n",
    "for k, v in allLyrics.items():\n",
    "    if v[0][0] == \"*\":\n",
    "        problemSongsPop.append([k] + v[2:5])\n",
    "print(len(problemSongsPop))"
   ]
  },
  {
   "cell_type": "code",
   "execution_count": null,
   "metadata": {},
   "outputs": [],
   "source": [
    "with open(\"data/problemSongsPop.txt\", \"w\") as file:\n",
    "    for s in problemSongsPop:\n",
    "        file.write(\"{}\\n\".format(s))"
   ]
  },
  {
   "cell_type": "code",
   "execution_count": null,
   "metadata": {},
   "outputs": [],
   "source": [
    "model = Sequential()"
   ]
  },
  {
   "cell_type": "code",
   "execution_count": 18,
   "metadata": {},
   "outputs": [],
   "source": []
  },
  {
   "cell_type": "code",
   "execution_count": null,
   "metadata": {},
   "outputs": [],
   "source": []
  }
 ],
 "metadata": {
  "kernelspec": {
   "display_name": "conda_tensorflow_p36",
   "language": "python",
   "name": "conda_tensorflow_p36"
  },
  "language_info": {
   "codemirror_mode": {
    "name": "ipython",
    "version": 3
   },
   "file_extension": ".py",
   "mimetype": "text/x-python",
   "name": "python",
   "nbconvert_exporter": "python",
   "pygments_lexer": "ipython3",
   "version": "3.6.5"
  }
 },
 "nbformat": 4,
 "nbformat_minor": 4
}
