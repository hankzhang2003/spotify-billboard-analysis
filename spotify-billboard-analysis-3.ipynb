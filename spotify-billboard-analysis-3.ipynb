{
 "cells": [
  {
   "cell_type": "code",
   "execution_count": 33,
   "metadata": {},
   "outputs": [
    {
     "name": "stdout",
     "output_type": "stream",
     "text": [
      "[nltk_data] Downloading package stopwords to\n",
      "[nltk_data]     /home/ec2-user/nltk_data...\n",
      "[nltk_data]   Package stopwords is already up-to-date!\n",
      "[nltk_data] Downloading package punkt to /home/ec2-user/nltk_data...\n",
      "[nltk_data]   Package punkt is already up-to-date!\n",
      "[nltk_data] Downloading package averaged_perceptron_tagger to\n",
      "[nltk_data]     /home/ec2-user/nltk_data...\n",
      "[nltk_data]   Package averaged_perceptron_tagger is already up-to-\n",
      "[nltk_data]       date!\n",
      "[nltk_data] Downloading package maxent_treebank_pos_tagger to\n",
      "[nltk_data]     /home/ec2-user/nltk_data...\n",
      "[nltk_data]   Package maxent_treebank_pos_tagger is already up-to-\n",
      "[nltk_data]       date!\n"
     ]
    }
   ],
   "source": [
    "# git config --global credential.helper store\n",
    "\n",
    "import numpy as np\n",
    "import pandas as pd\n",
    "import matplotlib.pyplot as plt\n",
    "import scipy.stats as stats\n",
    "import itertools\n",
    "from collections import Counter\n",
    "import ssl\n",
    "import time\n",
    "import string\n",
    "import unicodedata\n",
    "%matplotlib inline\n",
    "\n",
    "from urllib.request import Request, urlopen\n",
    "from threading import Thread\n",
    "from bs4 import BeautifulSoup\n",
    "\n",
    "from sklearn.preprocessing import MinMaxScaler\n",
    "from sklearn.cluster import KMeans\n",
    "from sklearn.metrics import silhouette_score, confusion_matrix, roc_curve\n",
    "from sklearn.model_selection import train_test_split\n",
    "\n",
    "from sklearn.linear_model import LogisticRegression\n",
    "from sklearn.ensemble import (RandomForestClassifier, RandomForestRegressor,\n",
    "                            GradientBoostingClassifier, GradientBoostingRegressor)\n",
    "from sklearn.naive_bayes import MultinomialNB\n",
    "\n",
    "import nltk\n",
    "nltk.download([\"stopwords\", \"punkt\", \"averaged_perceptron_tagger\", \"maxent_treebank_pos_tagger\"])\n",
    "from nltk.tokenize import sent_tokenize, word_tokenize\n",
    "from nltk.corpus import stopwords\n",
    "from nltk import pos_tag\n",
    "from nltk import RegexpParser\n",
    "from nltk.stem.snowball import SnowballStemmer\n",
    "from sklearn.feature_extraction.text import CountVectorizer, TfidfVectorizer\n",
    "\n",
    "from tensorflow.keras.models import Sequential\n",
    "from tensorflow.keras.layers import Dense, Activation\n",
    "\n",
    "from clean_dfs import clean_features, clean_weeks, clean_lyrics\n",
    "from web_scraping import parse_page, store_lyrics\n",
    "from nlp_pipeline import lyrics_tokenize, get_tfidf_matrix\n",
    "from genre_helper_functions import get_bucket, contains_genre_type, create_genre_column\n",
    "from make_plots import (make_frequency_plot, make_line_plot, make_dual_plot_same,\n",
    "                        make_dual_plot_mixed, make_scatter)\n",
    "import modeling_functions as mf"
   ]
  },
  {
   "cell_type": "code",
   "execution_count": 2,
   "metadata": {},
   "outputs": [],
   "source": [
    "features = clean_features()\n",
    "#weeks = clean_weeks()"
   ]
  },
  {
   "cell_type": "code",
   "execution_count": 3,
   "metadata": {},
   "outputs": [
    {
     "data": {
      "text/plain": [
       "'joined = weeks.merge(features, on=\\'SongID\\')\\n#joined.to_csv(\"data/joined.csv\", index=False)\\n\\n# Expand genres into individual components\\nfeatureGenres = features.explode(\\'spotify_genre\\')\\nfeatureGenres = featureGenres[featureGenres[\\'spotify_genre\\'] != \\'\\']\\n\\njoinedGenres = joined.explode(\\'spotify_genre\\')\\njoinedGenres = joinedGenres[joinedGenres[\\'spotify_genre\\'] != \\'\\']\\n\\nexplicitness = joined[[\\'Year\\', \\'spotify_track_explicit\\']]\\nexplicitness = explicitness.groupby([\\'Year\\']).mean().reset_index()\\n\\nnumericalMetrics = joined.columns.tolist()[11:23]\\nnumericals = joined[[\\'Year\\'] + numericalMetrics].groupby([\\'Year\\']).mean().reset_index()'"
      ]
     },
     "execution_count": 3,
     "metadata": {},
     "output_type": "execute_result"
    }
   ],
   "source": [
    "'''joined = weeks.merge(features, on='SongID')\n",
    "#joined.to_csv(\"data/joined.csv\", index=False)\n",
    "\n",
    "# Expand genres into individual components\n",
    "featureGenres = features.explode('spotify_genre')\n",
    "featureGenres = featureGenres[featureGenres['spotify_genre'] != '']\n",
    "\n",
    "joinedGenres = joined.explode('spotify_genre')\n",
    "joinedGenres = joinedGenres[joinedGenres['spotify_genre'] != '']\n",
    "\n",
    "explicitness = joined[['Year', 'spotify_track_explicit']]\n",
    "explicitness = explicitness.groupby(['Year']).mean().reset_index()\n",
    "\n",
    "numericalMetrics = joined.columns.tolist()[11:23]\n",
    "numericals = joined[['Year'] + numericalMetrics].groupby(['Year']).mean().reset_index()'''"
   ]
  },
  {
   "cell_type": "code",
   "execution_count": 4,
   "metadata": {},
   "outputs": [
    {
     "data": {
      "text/plain": [
       "'# Normalize numerical features not between 0 and 1\\nfeatureGenresNorm = featureGenres.copy()\\nscaled = [\"track_duration\", \"loudness\", \"tempo\"]\\nfor metric in scaled:\\n    mms = MinMaxScaler()\\n    featureGenresNorm[metric] = mms.fit_transform(featureGenresNorm[\\'track_duration\\'].                                 to_numpy().reshape(-1, 1))\\n\\n# Create grouped tables\\ngenres = featureGenres.groupby([\\'spotify_genre\\'])[\\'SongID\\'].count().reset_index()\\ngenresJoined = joinedGenres.groupby([\\'spotify_genre\\'])[\\'SongID\\'].count().reset_index()\\ngenresJoinedDecade = joinedGenres.groupby([\\'spotify_genre\\', \\'Decade\\'])[\\'SongID\\'].count().                         reset_index().sort_values(by=\"Decade\")\\ngenreFeatures = featureGenresNorm.groupby([\\'spotify_genre\\'])[numericalMetrics].mean().reset_index()'"
      ]
     },
     "execution_count": 4,
     "metadata": {},
     "output_type": "execute_result"
    }
   ],
   "source": [
    "'''# Normalize numerical features not between 0 and 1\n",
    "featureGenresNorm = featureGenres.copy()\n",
    "scaled = [\"track_duration\", \"loudness\", \"tempo\"]\n",
    "for metric in scaled:\n",
    "    mms = MinMaxScaler()\n",
    "    featureGenresNorm[metric] = mms.fit_transform(featureGenresNorm['track_duration']. \\\n",
    "                                to_numpy().reshape(-1, 1))\n",
    "\n",
    "# Create grouped tables\n",
    "genres = featureGenres.groupby(['spotify_genre'])['SongID'].count().reset_index()\n",
    "genresJoined = joinedGenres.groupby(['spotify_genre'])['SongID'].count().reset_index()\n",
    "genresJoinedDecade = joinedGenres.groupby(['spotify_genre', 'Decade'])['SongID'].count(). \\\n",
    "                        reset_index().sort_values(by=\"Decade\")\n",
    "genreFeatures = featureGenresNorm.groupby(['spotify_genre'])[numericalMetrics].mean().reset_index()'''"
   ]
  },
  {
   "cell_type": "code",
   "execution_count": 5,
   "metadata": {},
   "outputs": [],
   "source": [
    "ctx = ssl.create_default_context()\n",
    "ctx.check_hostname = False\n",
    "ctx.verify_mode = ssl.CERT_NONE"
   ]
  },
  {
   "cell_type": "code",
   "execution_count": 6,
   "metadata": {},
   "outputs": [
    {
     "data": {
      "text/plain": [
       "'# Web scrape lyrics\\nfeatureScrape = features.loc[[contains_genre_type(genre, [\"pop\", \"rock\", \"metal\"]) for genre                              in features[\\'spotify_genre\\']]].reset_index(drop=True)\\nlyricsMap = {}\\nthreads = []\\ntemp = 0\\nstart = time.time()\\n# Write scraped lyrics to hashmap, parallelize to save time (thread safe because no unique keys)\\n#for i in range(temp, temp+50):\\nfor i in range(len(featureScrape)):\\n    t = Thread(target=store_lyrics, args=(featureScrape[\\'Song\\'][i],\\n                featureScrape[\\'Performer\\'][i], lyricsMap))\\n    threads.append(t)\\n    t.start()\\nfor t in threads:\\n    t.join()\\nend = time.time()\\nprint(end - start)\\nscrapedLyrics = pd.DataFrame(lyricsMap.items(), columns=[\"SongID\", \"Lyrics\"])\\nscrapedLyrics.to_csv(\"data/scrapedLyrics.csv\", index=False)\\n\\n# Get list of all improperly formatted songs and save to file\\nproblemSongs = []\\nfor k, v in lyricsMap.items():\\n    if v[0][0] == \"*\":\\n        problemSongs.append([k] + v[2:5])\\nprint(len(featureScrape), len(problemSongs))\\n\\nwith open(\"data/problemSongs.txt\", \"w\") as file:\\n    for s in problemSongs:\\n        file.write(\"{}\\n\".format(s))'"
      ]
     },
     "execution_count": 6,
     "metadata": {},
     "output_type": "execute_result"
    }
   ],
   "source": [
    "'''# Web scrape lyrics\n",
    "featureScrape = features.loc[[contains_genre_type(genre, [\"pop\", \"rock\", \"metal\"]) for genre \\\n",
    "                             in features['spotify_genre']]].reset_index(drop=True)\n",
    "lyricsMap = {}\n",
    "threads = []\n",
    "temp = 0\n",
    "start = time.time()\n",
    "# Write scraped lyrics to hashmap, parallelize to save time (thread safe because no unique keys)\n",
    "#for i in range(temp, temp+50):\n",
    "for i in range(len(featureScrape)):\n",
    "    t = Thread(target=store_lyrics, args=(featureScrape['Song'][i],\n",
    "                featureScrape['Performer'][i], lyricsMap))\n",
    "    threads.append(t)\n",
    "    t.start()\n",
    "for t in threads:\n",
    "    t.join()\n",
    "end = time.time()\n",
    "print(end - start)\n",
    "scrapedLyrics = pd.DataFrame(lyricsMap.items(), columns=[\"SongID\", \"Lyrics\"])\n",
    "scrapedLyrics.to_csv(\"data/scrapedLyrics.csv\", index=False)\n",
    "\n",
    "# Get list of all improperly formatted songs and save to file\n",
    "problemSongs = []\n",
    "for k, v in lyricsMap.items():\n",
    "    if v[0][0] == \"*\":\n",
    "        problemSongs.append([k] + v[2:5])\n",
    "print(len(featureScrape), len(problemSongs))\n",
    "\n",
    "with open(\"data/problemSongs.txt\", \"w\") as file:\n",
    "    for s in problemSongs:\n",
    "        file.write(\"{}\\n\".format(s))'''"
   ]
  },
  {
   "cell_type": "code",
   "execution_count": 7,
   "metadata": {},
   "outputs": [],
   "source": [
    "# Read csv of previously outputted scraped lyrics and reformat to match original\n",
    "allLyrics = clean_lyrics()"
   ]
  },
  {
   "cell_type": "code",
   "execution_count": 8,
   "metadata": {},
   "outputs": [
    {
     "data": {
      "text/plain": [
       "'# NLP pipeline to create tokens from lyrics\\nallLyrics[\\'Lyrics_tokenized\\'] = list(map(lyrics_tokenize, allLyrics[\\'Lyrics\\']))\\nallLyrics.dropna(inplace=True)\\nallLyrics.to_csv(\"data/lyricsTokenized.csv\", index=False)'"
      ]
     },
     "execution_count": 8,
     "metadata": {},
     "output_type": "execute_result"
    }
   ],
   "source": [
    "'''# NLP pipeline to create tokens from lyrics\n",
    "allLyrics['Lyrics_tokenized'] = list(map(lyrics_tokenize, allLyrics['Lyrics']))\n",
    "allLyrics.dropna(inplace=True)\n",
    "allLyrics.to_csv(\"data/lyricsTokenized.csv\", index=False)'''"
   ]
  },
  {
   "cell_type": "code",
   "execution_count": 9,
   "metadata": {},
   "outputs": [],
   "source": [
    "###################"
   ]
  },
  {
   "cell_type": "code",
   "execution_count": 10,
   "metadata": {},
   "outputs": [],
   "source": [
    "# Create corpus and make dataframe with TF-IDF matrix\n",
    "allLyrics = pd.read_csv(\"data/lyricsTokenized.csv\")\n",
    "allLyrics.dropna(inplace=True)\n",
    "corpus = allLyrics['Lyrics_tokenized']\n",
    "tfidfLyrics = get_tfidf_matrix(corpus, 5000)\n",
    "tfidfLyrics.insert(0, \"SongID\", allLyrics['SongID'])\n",
    "tfidfLyrics.to_csv(\"data/tfidfMatrix.csv\", index=False)"
   ]
  },
  {
   "cell_type": "code",
   "execution_count": 68,
   "metadata": {},
   "outputs": [],
   "source": [
    "# Join with features to get valence of songs with lyrics\n",
    "valenceOnly = pd.DataFrame({\"SongID\": features['SongID'], \"spotify_genre\": features['spotify_genre'], \"valence\": features['valence']})\n",
    "lyricsAndValence = tfidfLyrics.merge(valenceOnly, on='SongID')\n",
    "lyricsAndValence.set_index(\"SongID\", inplace=True)\n",
    "# Temporary command to change model from regressor to classifier\n",
    "lyricsAndValence['valence'] = (lyricsAndValence['valence'] > 0.5).astype(int)"
   ]
  },
  {
   "cell_type": "code",
   "execution_count": 70,
   "metadata": {},
   "outputs": [
    {
     "name": "stderr",
     "output_type": "stream",
     "text": [
      "/home/ec2-user/anaconda3/envs/tensorflow_p36/lib/python3.6/site-packages/pandas/core/frame.py:3940: SettingWithCopyWarning: \n",
      "A value is trying to be set on a copy of a slice from a DataFrame\n",
      "\n",
      "See the caveats in the documentation: http://pandas.pydata.org/pandas-docs/stable/indexing.html#indexing-view-versus-copy\n",
      "  errors=errors)\n"
     ]
    }
   ],
   "source": [
    "# Run models for pop genre\n",
    "lyricsAndValencePop = lyricsAndValence[[contains_genre_type(g, [\"pop\"]) for g in lyricsAndValence['spotify_genre']]]\n",
    "lyricsAndValencePop.drop([\"spotify_genre\"], axis=1, inplace=True)\n",
    "X = lyricsAndValencePop[lyricsAndValencePop.columns.difference(['valence'])]\n",
    "y = lyricsAndValencePop['valence']\n",
    "X_train, X_test, y_train, y_test = train_test_split(X, y, test_size=0.2, random_state=0)"
   ]
  },
  {
   "cell_type": "code",
   "execution_count": 71,
   "metadata": {},
   "outputs": [
    {
     "name": "stderr",
     "output_type": "stream",
     "text": [
      "/home/ec2-user/anaconda3/envs/tensorflow_p36/lib/python3.6/site-packages/sklearn/linear_model/logistic.py:432: FutureWarning: Default solver will be changed to 'lbfgs' in 0.22. Specify a solver to silence this warning.\n",
      "  FutureWarning)\n"
     ]
    },
    {
     "name": "stdout",
     "output_type": "stream",
     "text": [
      "(0.4955957348168753, 0.5014031805425632, 0.4912923923006416)\n"
     ]
    }
   ],
   "source": [
    "# Logistic regression model\n",
    "y_pred, logistic_regression_results = mf.get_logistic_regression_results(X_train, \\\n",
    "                                            X_test, y_train, y_test)\n",
    "print(logistic_regression_results)\n",
    "# 0.5559, 0.3957, 0.3917"
   ]
  },
  {
   "cell_type": "code",
   "execution_count": 42,
   "metadata": {},
   "outputs": [
    {
     "ename": "KeyboardInterrupt",
     "evalue": "",
     "output_type": "error",
     "traceback": [
      "\u001b[0;31m---------------------------------------------------------------------------\u001b[0m",
      "\u001b[0;31mKeyboardInterrupt\u001b[0m                         Traceback (most recent call last)",
      "\u001b[0;32m<ipython-input-42-fc3ce6b1780a>\u001b[0m in \u001b[0;36m<module>\u001b[0;34m()\u001b[0m\n\u001b[1;32m      1\u001b[0m \u001b[0;31m# Gradient boosting model\u001b[0m\u001b[0;34m\u001b[0m\u001b[0;34m\u001b[0m\u001b[0m\n\u001b[1;32m      2\u001b[0m \u001b[0mstart\u001b[0m \u001b[0;34m=\u001b[0m \u001b[0mtime\u001b[0m\u001b[0;34m.\u001b[0m\u001b[0mtime\u001b[0m\u001b[0;34m(\u001b[0m\u001b[0;34m)\u001b[0m\u001b[0;34m\u001b[0m\u001b[0m\n\u001b[0;32m----> 3\u001b[0;31m \u001b[0mmf\u001b[0m\u001b[0;34m.\u001b[0m\u001b[0mplot_gradient_boost_class_hyperparameters\u001b[0m\u001b[0;34m(\u001b[0m\u001b[0mX_train\u001b[0m\u001b[0;34m,\u001b[0m \u001b[0mX_test\u001b[0m\u001b[0;34m,\u001b[0m \u001b[0my_train\u001b[0m\u001b[0;34m,\u001b[0m \u001b[0my_test\u001b[0m\u001b[0;34m,\u001b[0m                                              \u001b[0;34m\"pop\"\u001b[0m\u001b[0;34m)\u001b[0m\u001b[0;34m\u001b[0m\u001b[0m\n\u001b[0m\u001b[1;32m      4\u001b[0m \u001b[0mend\u001b[0m \u001b[0;34m=\u001b[0m \u001b[0mtime\u001b[0m\u001b[0;34m.\u001b[0m\u001b[0mtime\u001b[0m\u001b[0;34m(\u001b[0m\u001b[0;34m)\u001b[0m\u001b[0;34m\u001b[0m\u001b[0m\n\u001b[1;32m      5\u001b[0m \u001b[0mprint\u001b[0m\u001b[0;34m(\u001b[0m\u001b[0mend\u001b[0m\u001b[0;34m-\u001b[0m\u001b[0mstart\u001b[0m\u001b[0;34m)\u001b[0m\u001b[0;34m\u001b[0m\u001b[0m\n",
      "\u001b[0;32m~/SageMaker/spotify-billboard-analysis/modeling_functions.py\u001b[0m in \u001b[0;36mplot_gradient_boost_class_hyperparameters\u001b[0;34m(xtrain, xtest, ytrain, ytest, genre_type)\u001b[0m\n\u001b[1;32m    108\u001b[0m     \u001b[0maccuracy_l\u001b[0m \u001b[0;34m=\u001b[0m \u001b[0;34m[\u001b[0m\u001b[0;34m]\u001b[0m\u001b[0;34m\u001b[0m\u001b[0m\n\u001b[1;32m    109\u001b[0m     \u001b[0;32mfor\u001b[0m \u001b[0ml\u001b[0m \u001b[0;32min\u001b[0m \u001b[0mlearningRate\u001b[0m\u001b[0;34m:\u001b[0m\u001b[0;34m\u001b[0m\u001b[0m\n\u001b[0;32m--> 110\u001b[0;31m         \u001b[0mgbr\u001b[0m \u001b[0;34m=\u001b[0m \u001b[0mGradientBoostingClassifier\u001b[0m\u001b[0;34m(\u001b[0m\u001b[0mlearning_rate\u001b[0m\u001b[0;34m=\u001b[0m\u001b[0ml\u001b[0m\u001b[0;34m)\u001b[0m\u001b[0;34m.\u001b[0m\u001b[0mfit\u001b[0m\u001b[0;34m(\u001b[0m\u001b[0mxtrain\u001b[0m\u001b[0;34m,\u001b[0m \u001b[0mytrain\u001b[0m\u001b[0;34m)\u001b[0m\u001b[0;34m\u001b[0m\u001b[0m\n\u001b[0m\u001b[1;32m    111\u001b[0m         \u001b[0;31m# ypred = gbr.predict(xtest)\u001b[0m\u001b[0;34m\u001b[0m\u001b[0;34m\u001b[0m\u001b[0m\n\u001b[1;32m    112\u001b[0m         \u001b[0ma\u001b[0m \u001b[0;34m=\u001b[0m \u001b[0mgbr\u001b[0m\u001b[0;34m.\u001b[0m\u001b[0mscore\u001b[0m\u001b[0;34m(\u001b[0m\u001b[0mxtest\u001b[0m\u001b[0;34m,\u001b[0m \u001b[0mytest\u001b[0m\u001b[0;34m)\u001b[0m\u001b[0;34m\u001b[0m\u001b[0m\n",
      "\u001b[0;32m~/anaconda3/envs/tensorflow_p36/lib/python3.6/site-packages/sklearn/ensemble/gradient_boosting.py\u001b[0m in \u001b[0;36mfit\u001b[0;34m(self, X, y, sample_weight, monitor)\u001b[0m\n\u001b[1;32m   1544\u001b[0m         n_stages = self._fit_stages(\n\u001b[1;32m   1545\u001b[0m             \u001b[0mX\u001b[0m\u001b[0;34m,\u001b[0m \u001b[0my\u001b[0m\u001b[0;34m,\u001b[0m \u001b[0mraw_predictions\u001b[0m\u001b[0;34m,\u001b[0m \u001b[0msample_weight\u001b[0m\u001b[0;34m,\u001b[0m \u001b[0mself\u001b[0m\u001b[0;34m.\u001b[0m\u001b[0m_rng\u001b[0m\u001b[0;34m,\u001b[0m \u001b[0mX_val\u001b[0m\u001b[0;34m,\u001b[0m \u001b[0my_val\u001b[0m\u001b[0;34m,\u001b[0m\u001b[0;34m\u001b[0m\u001b[0m\n\u001b[0;32m-> 1546\u001b[0;31m             sample_weight_val, begin_at_stage, monitor, X_idx_sorted)\n\u001b[0m\u001b[1;32m   1547\u001b[0m \u001b[0;34m\u001b[0m\u001b[0m\n\u001b[1;32m   1548\u001b[0m         \u001b[0;31m# change shape of arrays after fit (early-stopping or additional ests)\u001b[0m\u001b[0;34m\u001b[0m\u001b[0;34m\u001b[0m\u001b[0m\n",
      "\u001b[0;32m~/anaconda3/envs/tensorflow_p36/lib/python3.6/site-packages/sklearn/ensemble/gradient_boosting.py\u001b[0m in \u001b[0;36m_fit_stages\u001b[0;34m(self, X, y, raw_predictions, sample_weight, random_state, X_val, y_val, sample_weight_val, begin_at_stage, monitor, X_idx_sorted)\u001b[0m\n\u001b[1;32m   1608\u001b[0m             raw_predictions = self._fit_stage(\n\u001b[1;32m   1609\u001b[0m                 \u001b[0mi\u001b[0m\u001b[0;34m,\u001b[0m \u001b[0mX\u001b[0m\u001b[0;34m,\u001b[0m \u001b[0my\u001b[0m\u001b[0;34m,\u001b[0m \u001b[0mraw_predictions\u001b[0m\u001b[0;34m,\u001b[0m \u001b[0msample_weight\u001b[0m\u001b[0;34m,\u001b[0m \u001b[0msample_mask\u001b[0m\u001b[0;34m,\u001b[0m\u001b[0;34m\u001b[0m\u001b[0m\n\u001b[0;32m-> 1610\u001b[0;31m                 random_state, X_idx_sorted, X_csc, X_csr)\n\u001b[0m\u001b[1;32m   1611\u001b[0m \u001b[0;34m\u001b[0m\u001b[0m\n\u001b[1;32m   1612\u001b[0m             \u001b[0;31m# track deviance (= loss)\u001b[0m\u001b[0;34m\u001b[0m\u001b[0;34m\u001b[0m\u001b[0m\n",
      "\u001b[0;32m~/anaconda3/envs/tensorflow_p36/lib/python3.6/site-packages/sklearn/ensemble/gradient_boosting.py\u001b[0m in \u001b[0;36m_fit_stage\u001b[0;34m(self, i, X, y, raw_predictions, sample_weight, sample_mask, random_state, X_idx_sorted, X_csc, X_csr)\u001b[0m\n\u001b[1;32m   1242\u001b[0m             \u001b[0mX\u001b[0m \u001b[0;34m=\u001b[0m \u001b[0mX_csr\u001b[0m \u001b[0;32mif\u001b[0m \u001b[0mX_csr\u001b[0m \u001b[0;32mis\u001b[0m \u001b[0;32mnot\u001b[0m \u001b[0;32mNone\u001b[0m \u001b[0;32melse\u001b[0m \u001b[0mX\u001b[0m\u001b[0;34m\u001b[0m\u001b[0m\n\u001b[1;32m   1243\u001b[0m             tree.fit(X, residual, sample_weight=sample_weight,\n\u001b[0;32m-> 1244\u001b[0;31m                      check_input=False, X_idx_sorted=X_idx_sorted)\n\u001b[0m\u001b[1;32m   1245\u001b[0m \u001b[0;34m\u001b[0m\u001b[0m\n\u001b[1;32m   1246\u001b[0m             \u001b[0;31m# update tree leaves\u001b[0m\u001b[0;34m\u001b[0m\u001b[0;34m\u001b[0m\u001b[0m\n",
      "\u001b[0;32m~/anaconda3/envs/tensorflow_p36/lib/python3.6/site-packages/sklearn/tree/tree.py\u001b[0m in \u001b[0;36mfit\u001b[0;34m(self, X, y, sample_weight, check_input, X_idx_sorted)\u001b[0m\n\u001b[1;32m   1155\u001b[0m             \u001b[0msample_weight\u001b[0m\u001b[0;34m=\u001b[0m\u001b[0msample_weight\u001b[0m\u001b[0;34m,\u001b[0m\u001b[0;34m\u001b[0m\u001b[0m\n\u001b[1;32m   1156\u001b[0m             \u001b[0mcheck_input\u001b[0m\u001b[0;34m=\u001b[0m\u001b[0mcheck_input\u001b[0m\u001b[0;34m,\u001b[0m\u001b[0;34m\u001b[0m\u001b[0m\n\u001b[0;32m-> 1157\u001b[0;31m             X_idx_sorted=X_idx_sorted)\n\u001b[0m\u001b[1;32m   1158\u001b[0m         \u001b[0;32mreturn\u001b[0m \u001b[0mself\u001b[0m\u001b[0;34m\u001b[0m\u001b[0m\n\u001b[1;32m   1159\u001b[0m \u001b[0;34m\u001b[0m\u001b[0m\n",
      "\u001b[0;32m~/anaconda3/envs/tensorflow_p36/lib/python3.6/site-packages/sklearn/tree/tree.py\u001b[0m in \u001b[0;36mfit\u001b[0;34m(self, X, y, sample_weight, check_input, X_idx_sorted)\u001b[0m\n\u001b[1;32m    378\u001b[0m                                            min_impurity_split)\n\u001b[1;32m    379\u001b[0m \u001b[0;34m\u001b[0m\u001b[0m\n\u001b[0;32m--> 380\u001b[0;31m         \u001b[0mbuilder\u001b[0m\u001b[0;34m.\u001b[0m\u001b[0mbuild\u001b[0m\u001b[0;34m(\u001b[0m\u001b[0mself\u001b[0m\u001b[0;34m.\u001b[0m\u001b[0mtree_\u001b[0m\u001b[0;34m,\u001b[0m \u001b[0mX\u001b[0m\u001b[0;34m,\u001b[0m \u001b[0my\u001b[0m\u001b[0;34m,\u001b[0m \u001b[0msample_weight\u001b[0m\u001b[0;34m,\u001b[0m \u001b[0mX_idx_sorted\u001b[0m\u001b[0;34m)\u001b[0m\u001b[0;34m\u001b[0m\u001b[0m\n\u001b[0m\u001b[1;32m    381\u001b[0m \u001b[0;34m\u001b[0m\u001b[0m\n\u001b[1;32m    382\u001b[0m         \u001b[0;32mif\u001b[0m \u001b[0mself\u001b[0m\u001b[0;34m.\u001b[0m\u001b[0mn_outputs_\u001b[0m \u001b[0;34m==\u001b[0m \u001b[0;36m1\u001b[0m\u001b[0;34m:\u001b[0m\u001b[0;34m\u001b[0m\u001b[0m\n",
      "\u001b[0;31mKeyboardInterrupt\u001b[0m: "
     ]
    }
   ],
   "source": [
    "# Gradient boosting model\n",
    "start = time.time()\n",
    "mf.plot_gradient_boost_class_hyperparameters(X_train, X_test, y_train, y_test, \\\n",
    "                                             \"pop\")\n",
    "end = time.time()\n",
    "print(end-start)"
   ]
  },
  {
   "cell_type": "code",
   "execution_count": 72,
   "metadata": {},
   "outputs": [
    {
     "name": "stdout",
     "output_type": "stream",
     "text": [
      "(0.5280482151135837, 0.46117867165575305, 0.5272727272727272)\n",
      "77.58851027488708\n"
     ]
    }
   ],
   "source": [
    "start = time.time()\n",
    "y_pred, gradient_boost_class_results = mf.get_gradient_boost_class_results(0.2, 150, \\\n",
    "                                            1.0, 5000, X_train, X_test, y_train, y_test)\n",
    "print(gradient_boost_class_results)\n",
    "end = time.time()\n",
    "print(end-start)\n",
    "# 0.6 0.6 0.6"
   ]
  },
  {
   "cell_type": "code",
   "execution_count": 51,
   "metadata": {},
   "outputs": [
    {
     "name": "stdout",
     "output_type": "stream",
     "text": [
      "6.804572672836147e-05\n"
     ]
    }
   ],
   "source": []
  },
  {
   "cell_type": "code",
   "execution_count": 64,
   "metadata": {},
   "outputs": [
    {
     "data": {
      "text/plain": [
       "0.6361594991834513"
      ]
     },
     "execution_count": 64,
     "metadata": {},
     "output_type": "execute_result"
    }
   ],
   "source": []
  },
  {
   "cell_type": "code",
   "execution_count": 61,
   "metadata": {},
   "outputs": [
    {
     "data": {
      "text/plain": [
       "14696"
      ]
     },
     "execution_count": 61,
     "metadata": {},
     "output_type": "execute_result"
    }
   ],
   "source": []
  },
  {
   "cell_type": "code",
   "execution_count": 62,
   "metadata": {},
   "outputs": [
    {
     "data": {
      "text/plain": [
       "SongID\n",
       "The ArcherTaylor Swift                                         0\n",
       "TakeawayThe Chainsmokers & Illenium Featuring Lennon Stella    0\n",
       "Bad Bad BadYoung Thug Featuring Lil Baby                       1\n",
       "HeartlessThe Weeknd                                            0\n",
       "HeatChris Brown Featuring Gunna                                0\n",
       "Yellow HeartsAnt Saunders                                      1\n",
       "Don't Check On MeChris Brown Featuring Justin Bieber & Ink     1\n",
       "Cornelia StreetTaylor Swift                                    0\n",
       "GoldenHarry Styles                                             0\n",
       "Watermelon SugarHarry Styles                                   0\n",
       "Easier5 Seconds Of Summer                                      1\n",
       "TrampolineSHAED                                                0\n",
       "LivingDierks Bentley                                           0\n",
       "Prayed For YouMatt Stell                                       0\n",
       "When I Grow UpNF                                               0\n",
       "Break Up With Your Girlfriend, I'm BoredAriana Grande          0\n",
       "Hate MeEllie Goulding & Juice WRLD                             1\n",
       "TimeNF                                                         0\n",
       "Dance MonkeyTones And I                                        0\n",
       "The ManTaylor Swift                                            1\n",
       "Make It RightBTS Featuring Lauv                                0\n",
       "ShallowLady Gaga & Bradley Cooper                              0\n",
       "TapNAV Featuring Meek Mill                                     0\n",
       "Miss Americana & The Heartbreak PrinceTaylor Swift             0\n",
       "Nice To Meet YaNiall Horan                                     0\n",
       "Hot ShowerChance The Rapper Featuring MadeinTYO & DaBaby       1\n",
       "Without MeHalsey                                               0\n",
       "FallingHarry Styles                                            0\n",
       "SenoritaShawn Mendes & Camila Cabello                          1\n",
       "Just How It IsYoung Thug                                       1\n",
       "                                                              ..\n",
       "Your Old Stand ByMary Wells                                    1\n",
       "Your Own Back YardDion                                         1\n",
       "Your Own Special WayGenesis                                    0\n",
       "Your Side Of The BedLittle Big Town                            0\n",
       "Your Side Of The BedMac Davis                                  0\n",
       "Your Smiling FaceJames Taylor                                  1\n",
       "Your Wildest DreamsThe Moody Blues                             1\n",
       "Your SongRod Stewart                                           0\n",
       "Your SongElton John                                            0\n",
       "Your Used To BeBrenda Lee                                      1\n",
       "Youth Gone WildSkid Row                                        1\n",
       "YouRita Coolidge                                               1\n",
       "Your Wonderful, Sweet Sweet LoveThe Supremes                   1\n",
       "YoursRussell Dickerson                                         0\n",
       "Yuck!2 Chainz Featuring Lil Wayne                              0\n",
       "YuckLogic                                                      1\n",
       "Youth Of The NationP.O.D.                                      0\n",
       "YouthTroye Sivan                                               0\n",
       "Yummy Yummy YummyOhio Express                                  1\n",
       "YouthShawn Mendes Featuring Khalid                             0\n",
       "ZeroChris Brown                                                1\n",
       "ZombieBad Wolves                                               0\n",
       "ZEZEKodak Black Featuring Travis Scott & Offset                0\n",
       "ZoomFuture                                                     1\n",
       "Tonight You're Gonna Fall In Love With MeThe Shirelles         1\n",
       "Tonight She ComesThe Cars                                      1\n",
       "Tonight My Love, TonightPaul Anka                              1\n",
       "Tonight TonightBill Champlin                                   0\n",
       "Tonight, Tonight, TonightGenesis                               0\n",
       "Tonight TonightHot Chelle Rae                                  1\n",
       "Name: valence, Length: 14696, dtype: int64"
      ]
     },
     "execution_count": 62,
     "metadata": {},
     "output_type": "execute_result"
    }
   ],
   "source": []
  },
  {
   "cell_type": "code",
   "execution_count": null,
   "metadata": {},
   "outputs": [],
   "source": []
  },
  {
   "cell_type": "code",
   "execution_count": null,
   "metadata": {},
   "outputs": [],
   "source": []
  },
  {
   "cell_type": "code",
   "execution_count": null,
   "metadata": {},
   "outputs": [],
   "source": []
  },
  {
   "cell_type": "code",
   "execution_count": null,
   "metadata": {},
   "outputs": [],
   "source": []
  },
  {
   "cell_type": "code",
   "execution_count": null,
   "metadata": {},
   "outputs": [],
   "source": []
  },
  {
   "cell_type": "code",
   "execution_count": null,
   "metadata": {},
   "outputs": [],
   "source": []
  }
 ],
 "metadata": {
  "kernelspec": {
   "display_name": "conda_tensorflow_p36",
   "language": "python",
   "name": "conda_tensorflow_p36"
  },
  "language_info": {
   "codemirror_mode": {
    "name": "ipython",
    "version": 3
   },
   "file_extension": ".py",
   "mimetype": "text/x-python",
   "name": "python",
   "nbconvert_exporter": "python",
   "pygments_lexer": "ipython3",
   "version": "3.6.5"
  }
 },
 "nbformat": 4,
 "nbformat_minor": 4
}
